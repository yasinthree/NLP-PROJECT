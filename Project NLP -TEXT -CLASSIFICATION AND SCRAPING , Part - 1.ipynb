{
 "cells": [
  {
   "cell_type": "code",
   "execution_count": null,
   "metadata": {},
   "outputs": [],
   "source": [
    "# Scraps news articles from inshorts\n",
    "# a.Understand the scraping basics-HTML STRUCTURE of gthe webpage [HTML- hypertext markup language]\n",
    "# b.Intorduction of packages like BeautifulSoup [ for scraping the content]\n",
    "# c.Extrecting text content like - 'Headline','Article','Category' \n"
   ]
  },
  {
   "cell_type": "code",
   "execution_count": 13,
   "metadata": {},
   "outputs": [],
   "source": [
    "import requests\n",
    "from bs4 import BeautifulSoup\n",
    "import pandas as pd \n",
    "import numpy as np\n",
    "import matplotlib.pyplot as plt\n",
    "import seaborn as sns\n",
    "import os"
   ]
  },
  {
   "cell_type": "code",
   "execution_count": 14,
   "metadata": {},
   "outputs": [],
   "source": [
    "seed_urls = ['https://inshorts.com/en/read/technology',\n",
    "            'https://inshorts.com/en/read/sports',\n",
    "            'https://inshorts.com/en/read/world']"
   ]
  },
  {
   "cell_type": "code",
   "execution_count": 15,
   "metadata": {},
   "outputs": [],
   "source": [
    "def build_dataset(seed_urls):\n",
    "    news_data = []\n",
    "    for url in seed_urls:\n",
    "        news_category = url.split('/')[-1]\n",
    "        data = requests.get(url)\n",
    "        soup = BeautifulSoup(data.content,'html.parser')\n",
    "        \n",
    "        all_cards = soup.find_all('div',class_ ='news-card')\n",
    "        news_articles =[{\n",
    "            'news_headline': card.find('span',attrs ={'itemprop':'headline'}).string,\n",
    "            'news_article':  card.find('div',attrs ={'itemprop':'articleBody'}).string,\n",
    "            'news_category': news_category\n",
    "        }for card in all_cards]\n",
    "        news_data.extend(news_articles)\n",
    "        # end of for loop\n",
    "        df = pd.DataFrame(news_data)\n",
    "        df = df[['news_headline','news_article','news_category']]\n",
    "        return df\n",
    "        "
   ]
  },
  {
   "cell_type": "code",
   "execution_count": 16,
   "metadata": {},
   "outputs": [
    {
     "data": {
      "text/html": [
       "<div>\n",
       "<style scoped>\n",
       "    .dataframe tbody tr th:only-of-type {\n",
       "        vertical-align: middle;\n",
       "    }\n",
       "\n",
       "    .dataframe tbody tr th {\n",
       "        vertical-align: top;\n",
       "    }\n",
       "\n",
       "    .dataframe thead th {\n",
       "        text-align: right;\n",
       "    }\n",
       "</style>\n",
       "<table border=\"1\" class=\"dataframe\">\n",
       "  <thead>\n",
       "    <tr style=\"text-align: right;\">\n",
       "      <th></th>\n",
       "      <th>news_headline</th>\n",
       "      <th>news_article</th>\n",
       "      <th>news_category</th>\n",
       "    </tr>\n",
       "  </thead>\n",
       "  <tbody>\n",
       "    <tr>\n",
       "      <th>0</th>\n",
       "      <td>Priyanka Gandhi's phone was hacked by WhatsApp...</td>\n",
       "      <td>Congress leader Randeep Singh Surjewala today ...</td>\n",
       "      <td>technology</td>\n",
       "    </tr>\n",
       "    <tr>\n",
       "      <th>1</th>\n",
       "      <td>Apple seeks US tariff waiver on China-made iPh...</td>\n",
       "      <td>Apple is seeking tariff waiver from the Trump ...</td>\n",
       "      <td>technology</td>\n",
       "    </tr>\n",
       "    <tr>\n",
       "      <th>2</th>\n",
       "      <td>Notified India about security issue in May: Wh...</td>\n",
       "      <td>After the Centre sought an explanation from Wh...</td>\n",
       "      <td>technology</td>\n",
       "    </tr>\n",
       "    <tr>\n",
       "      <th>3</th>\n",
       "      <td>TikTok faces US security probe over $1 bn Musi...</td>\n",
       "      <td>The US government has launched a national secu...</td>\n",
       "      <td>technology</td>\n",
       "    </tr>\n",
       "    <tr>\n",
       "      <th>4</th>\n",
       "      <td>WhatsApp told govt in Sept that spyware target...</td>\n",
       "      <td>WhatsApp informed the government in September ...</td>\n",
       "      <td>technology</td>\n",
       "    </tr>\n",
       "    <tr>\n",
       "      <th>5</th>\n",
       "      <td>Women being sold via slave markets on Instagra...</td>\n",
       "      <td>A BBC investigation revealed that women and do...</td>\n",
       "      <td>technology</td>\n",
       "    </tr>\n",
       "    <tr>\n",
       "      <th>6</th>\n",
       "      <td>TikTok-owner ByteDance unveils its first smart...</td>\n",
       "      <td>ByteDance, one of the world's most valuable st...</td>\n",
       "      <td>technology</td>\n",
       "    </tr>\n",
       "    <tr>\n",
       "      <th>7</th>\n",
       "      <td>Facebook was in talks to buy Fitbit but Google...</td>\n",
       "      <td>Facebook was in talks to acquire US fitness we...</td>\n",
       "      <td>technology</td>\n",
       "    </tr>\n",
       "    <tr>\n",
       "      <th>8</th>\n",
       "      <td>Goldman Sachs gave $10 bn in credit for Apple ...</td>\n",
       "      <td>American investment firm Goldman Sachs extende...</td>\n",
       "      <td>technology</td>\n",
       "    </tr>\n",
       "    <tr>\n",
       "      <th>9</th>\n",
       "      <td>Musk tweets he's not sure about 'good of Twitt...</td>\n",
       "      <td>Billionaire entrepreneur Elon Musk, founder of...</td>\n",
       "      <td>technology</td>\n",
       "    </tr>\n",
       "  </tbody>\n",
       "</table>\n",
       "</div>"
      ],
      "text/plain": [
       "                                       news_headline  \\\n",
       "0  Priyanka Gandhi's phone was hacked by WhatsApp...   \n",
       "1  Apple seeks US tariff waiver on China-made iPh...   \n",
       "2  Notified India about security issue in May: Wh...   \n",
       "3  TikTok faces US security probe over $1 bn Musi...   \n",
       "4  WhatsApp told govt in Sept that spyware target...   \n",
       "5  Women being sold via slave markets on Instagra...   \n",
       "6  TikTok-owner ByteDance unveils its first smart...   \n",
       "7  Facebook was in talks to buy Fitbit but Google...   \n",
       "8  Goldman Sachs gave $10 bn in credit for Apple ...   \n",
       "9  Musk tweets he's not sure about 'good of Twitt...   \n",
       "\n",
       "                                        news_article news_category  \n",
       "0  Congress leader Randeep Singh Surjewala today ...    technology  \n",
       "1  Apple is seeking tariff waiver from the Trump ...    technology  \n",
       "2  After the Centre sought an explanation from Wh...    technology  \n",
       "3  The US government has launched a national secu...    technology  \n",
       "4  WhatsApp informed the government in September ...    technology  \n",
       "5  A BBC investigation revealed that women and do...    technology  \n",
       "6  ByteDance, one of the world's most valuable st...    technology  \n",
       "7  Facebook was in talks to acquire US fitness we...    technology  \n",
       "8  American investment firm Goldman Sachs extende...    technology  \n",
       "9  Billionaire entrepreneur Elon Musk, founder of...    technology  "
      ]
     },
     "execution_count": 16,
     "metadata": {},
     "output_type": "execute_result"
    }
   ],
   "source": [
    "news_df = build_dataset(seed_urls)\n",
    "news_df.head(10)"
   ]
  },
  {
   "cell_type": "code",
   "execution_count": 12,
   "metadata": {},
   "outputs": [
    {
     "data": {
      "text/plain": [
       "technology    24\n",
       "Name: news_category, dtype: int64"
      ]
     },
     "execution_count": 12,
     "metadata": {},
     "output_type": "execute_result"
    }
   ],
   "source": [
    "news_df.news_category.value_counts()"
   ]
  },
  {
   "cell_type": "code",
   "execution_count": null,
   "metadata": {},
   "outputs": [],
   "source": []
  },
  {
   "cell_type": "code",
   "execution_count": null,
   "metadata": {},
   "outputs": [],
   "source": []
  },
  {
   "cell_type": "code",
   "execution_count": null,
   "metadata": {},
   "outputs": [],
   "source": []
  },
  {
   "cell_type": "code",
   "execution_count": null,
   "metadata": {},
   "outputs": [],
   "source": []
  },
  {
   "cell_type": "code",
   "execution_count": null,
   "metadata": {},
   "outputs": [],
   "source": []
  },
  {
   "cell_type": "code",
   "execution_count": null,
   "metadata": {},
   "outputs": [],
   "source": []
  },
  {
   "cell_type": "code",
   "execution_count": null,
   "metadata": {},
   "outputs": [],
   "source": []
  },
  {
   "cell_type": "code",
   "execution_count": null,
   "metadata": {},
   "outputs": [],
   "source": []
  }
 ],
 "metadata": {
  "kernelspec": {
   "display_name": "Python 3",
   "language": "python",
   "name": "python3"
  },
  "language_info": {
   "codemirror_mode": {
    "name": "ipython",
    "version": 3
   },
   "file_extension": ".py",
   "mimetype": "text/x-python",
   "name": "python",
   "nbconvert_exporter": "python",
   "pygments_lexer": "ipython3",
   "version": "3.7.3"
  }
 },
 "nbformat": 4,
 "nbformat_minor": 2
}
